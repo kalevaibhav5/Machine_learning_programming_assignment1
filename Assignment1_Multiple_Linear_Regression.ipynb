{
 "cells": [
  {
   "cell_type": "code",
   "execution_count": 10,
   "id": "688ad2c2",
   "metadata": {},
   "outputs": [
    {
     "name": "stdout",
     "output_type": "stream",
     "text": [
      "Training_score :  0.9496654854268443\n",
      "Testing_score :  0.9474386447268488\n"
     ]
    },
    {
     "data": {
      "image/png": "[encoded data removed]",
      "text/plain": [
       "<Figure size 864x576 with 1 Axes>"
      ]
     },
     "metadata": {
      "needs_background": "light"
     },
     "output_type": "display_data"
    }
   ],
   "source": [
    "# Importing libraries\n",
    "# -------------------\n",
    "import numpy as np\n",
    "import matplotlib.pyplot as plt\n",
    "import pandas as pd\n",
    "\n",
    "# Importing the dataset\n",
    "# ---------------------\n",
    "# dataset = pd.read_csv('/Users/vaibhavkale/Documents/KSU studies MS /Summer 2022/Assignments/Assignment1_regression/Multiple-Linear-Dataset.csv')\n",
    "X = dataset.drop(['Product_2','Location','Profit'], axis=1)\n",
    "Y = dataset['Profit']\n",
    "\n",
    "# Encoding categorical data\n",
    "# -------------------------\n",
    "# from sklearn.preprocessing import LabelEncoder, OneHotEncoder\n",
    "# labelencoder_X = LabelEncoder()\n",
    "# X[:, 3] = labelencoder_X.fit_transform(X[:, 3])\n",
    "# onehotencoder = OneHotEncoder(categorical_features=[3])\n",
    "# X = onehotencoder.fit_transform(X).toarray()\n",
    "\n",
    "# # Avoiding the Dummy Variable Trap\n",
    "# X = X[:, 1:]\n",
    "\n",
    "# Splitting the dataset into the Training set and Test set\n",
    "# --------------------------------------------------------\n",
    "from sklearn.model_selection import train_test_split\n",
    "X_train, X_test, y_train, y_test = train_test_split(X, Y, test_size=0.2, random_state=0)\n",
    "\n",
    "# Fitting Multiple Linear Regression to the Training set\n",
    "from sklearn.linear_model import LinearRegression\n",
    "\n",
    "linear_model = LinearRegression().fit(X_train, y_train)\n",
    "# Missing line-----------------------------------------\n",
    "# Missing line-----------------------------------------\n",
    "\n",
    "y_pred = linear_model.predict(X_test)\n",
    "# Predicting the Test set results\n",
    "# Missing line-----------------------------------------\n",
    "\n",
    "print(\"Training_score : \" , linear_model.score(X_train, y_train))\n",
    "\n",
    "from sklearn.metrics import r2_score\n",
    "\n",
    "print(\"Testing_score : \", r2_score(y_test, y_pred))\n",
    "\n",
    "fig, ax = plt.subplots(figsize=(12, 8))\n",
    "\n",
    "plt.scatter(y_test, y_pred)\n",
    "plt.show()\n",
    "\n",
    "# # Building the optimal model using Backward Elimination\n",
    "# import statsmodels.formula.api as sm\n",
    "# X = np.append(arr=np.ones((50, 1)).astype(int), values=X, axis=1)\n",
    "# X_opt = X[:, [0, 1, 2, 3, 4, 5]]\n",
    "# regressor_OLS = sm.OLS(endog=y, exog=X_opt).fit()\n",
    "# regressor_OLS.summary()\n",
    "# X_opt = X[:, [0, 1, 3, 4, 5]]\n",
    "# regressor_OLS = sm.OLS(endog=y, exog=X_opt).fit()\n",
    "# regressor_OLS.summary()\n",
    "# X_opt = X[:, [0, 3, 4, 5]]\n",
    "# regressor_OLS = sm.OLS(endog=y, exog=X_opt).fit()\n",
    "# regressor_OLS.summary()\n",
    "# X_opt = X[:, [0, 3, 5]]\n",
    "# regressor_OLS = sm.OLS(endog=y, exog=X_opt).fit()\n",
    "# regressor_OLS.summary()\n",
    "# X_opt = X[:, [0, 3]]\n",
    "# regressor_OLS = sm.OLS(endog=y, exog=X_opt).fit()\n",
    "# regressor_OLS.summary()\n"
   ]
  },
  {
   "cell_type": "code",
   "execution_count": null,
   "id": "c80e0f65",
   "metadata": {},
   "outputs": [],
   "source": []
  }
 ],
 "metadata": {
  "kernelspec": {
   "display_name": "Python 3 (ipykernel)",
   "language": "python",
   "name": "python3"
  },
  "language_info": {
   "codemirror_mode": {
    "name": "ipython",
    "version": 3
   },
   "file_extension": ".py",
   "mimetype": "text/x-python",
   "name": "python",
   "nbconvert_exporter": "python",
   "pygments_lexer": "ipython3",
   "version": "3.9.10"
  }
 },
 "nbformat": 4,
 "nbformat_minor": 5
}
